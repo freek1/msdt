{
 "cells": [
  {
   "cell_type": "code",
   "execution_count": null,
   "metadata": {
    "scrolled": false
   },
   "outputs": [],
   "source": [
    "from analyse_datasets import analyse_datasets, analyse_dataset, debug_test_dataset, debug_test_single_dataset\n",
    "%load_ext autoreload\n",
    "%autoreload 2"
   ]
  },
  {
   "cell_type": "code",
   "execution_count": null,
   "metadata": {
    "scrolled": true,
    "tags": []
   },
   "outputs": [],
   "source": [
    "debug_test_single_dataset('p300_prn','rutger_prn_5_flip',\n",
    "                          loader_args=dict(ofs=32,order=6,stopband=((0,1),(12,-1)),subtriallen=None),\n",
    "                          preproc_args=dict(badChannelThresh=3,badTrialThresh=None),\n",
    "                          model='cca',evtlabs=('re','anyre'),rank=4,tau_ms=750,reg=.02,badEpThresh=3)"
   ]
  },
  {
   "cell_type": "code",
   "execution_count": null,
   "metadata": {
    "scrolled": true,
    "tags": []
   },
   "outputs": [],
   "source": [
    "debug_test_single_dataset('p300_prn','rutger_rc_5',\n",
    "                          loader_args=dict(ofs=32,order=6,stopband=((0,1),(12,-1)),subtriallen=None),\n",
    "                          preproc_args=dict(badChannelThresh=3,badTrialThresh=None),\n",
    "                          model='cca',evtlabs=('re','anyre'),rank=4,tau_ms=750,reg=.02,badEpThresh=3)"
   ]
  },
  {
   "cell_type": "code",
   "execution_count": null,
   "metadata": {
    "scrolled": true,
    "tags": []
   },
   "outputs": [],
   "source": [
    "debug_test_single_dataset('p300_prn','rutger_prn_15_flip',\n",
    "                          loader_args=dict(ofs=32,order=6,stopband=((0,1),(12,-1)),subtriallen=None),\n",
    "                          preproc_args=dict(badChannelThresh=3,badTrialThresh=None),\n",
    "                          model='cca',evtlabs=('re','anyre'),rank=5,tau_ms=750,reg=.02,badEpThresh=3)"
   ]
  },
  {
   "cell_type": "code",
   "execution_count": null,
   "metadata": {
    "scrolled": true,
    "tags": []
   },
   "outputs": [],
   "source": [
    "debug_test_single_dataset('p300_prn','rutger_prn_5_flip',\n",
    "                          loader_args=dict(ofs=32,order=6,stopband=((0,1),(12,-1)),subtriallen=None),\n",
    "                          preproc_args=dict(badChannelThresh=3,badTrialThresh=None),\n",
    "                          model='lr',evtlabs=('re','anyre'),tau_ms=750,ignore_unlabelled=True,center=True)"
   ]
  },
  {
   "cell_type": "code",
   "execution_count": null,
   "metadata": {
    "scrolled": true,
    "tags": []
   },
   "outputs": [],
   "source": [
    "debug_test_single_dataset('p300_prn','kirsten_rc_5',\n",
    "                          loader_args=dict(ofs=32,order=6,stopband=((0,1),(12,-1)),subtriallen=None),\n",
    "                          preproc_args=dict(badChannelThresh=3,badTrialThresh=3),\n",
    "                          model='cca',evtlabs=('re','anyre'),rank=3,tau_ms=750,reg=.02,badEpThresh=6)"
   ]
  },
  {
   "cell_type": "code",
   "execution_count": null,
   "metadata": {
    "scrolled": true,
    "tags": []
   },
   "outputs": [],
   "source": [
    "debug_test_single_dataset('p300_prn','alex_rc_5',\n",
    "                          loader_args=dict(ofs=32,order=6,stopband=((0,1),(12,-1)),subtriallen=None),\n",
    "                          preproc_args=dict(badChannelThresh=None,badTrialThresh=None),\n",
    "                          model='cca',evtlabs=('re','anyre'),rank=3,tau_ms=750,reg=.02,badEpThresh=6)"
   ]
  },
  {
   "cell_type": "code",
   "execution_count": null,
   "metadata": {
    "scrolled": true,
    "tags": []
   },
   "outputs": [],
   "source": [
    "debug_test_single_dataset('p300_prn','alex_prn_5',\n",
    "                          loader_args=dict(ofs=32,order=6,stopband=((0,1),(12,-1)),subtriallen=None),\n",
    "                          preproc_args=dict(badChannelThresh=None,badTrialThresh=None),\n",
    "                          model='cca',evtlabs=('re','anyre'),rank=7,tau_ms=750,reg=.02)"
   ]
  },
  {
   "cell_type": "code",
   "execution_count": null,
   "metadata": {
    "scrolled": true,
    "tags": []
   },
   "outputs": [],
   "source": [
    "debug_test_single_dataset('p300_prn','kirsten_prn_5_flip',\n",
    "                          loader_args=dict(ofs=32,order=6,stopband=((0,1),(12,-1)),subtriallen=None),\n",
    "                          preproc_args=dict(badChannelThresh=None,badTrialThresh=None),\n",
    "                          model='cca',evtlabs=('re','anyre'),rank=5,tau_ms=750,reg=.02,badEpThresh=6)"
   ]
  },
  {
   "cell_type": "code",
   "execution_count": null,
   "metadata": {
    "scrolled": true,
    "tags": []
   },
   "outputs": [],
   "source": [
    "debug_test_single_dataset('p300_prn','kirsten_rc_5',\n",
    "                          loader_args=dict(ofs=32,order=6,stopband=((0,1),(12,-1)),subtriallen=None),\n",
    "                          preproc_args=dict(badChannelThresh=3,badTrialThresh=3, whiten=.05),\n",
    "                          evtlabs=('re','ntre'), model='lr', ignore_unlabelled=True,tau_ms=750,badEpThresh=None)"
   ]
  },
  {
   "cell_type": "code",
   "execution_count": null,
   "metadata": {
    "scrolled": true,
    "tags": []
   },
   "outputs": [],
   "source": [
    "debug_test_single_dataset('p300_prn','jeroen_prn_5_flip',\n",
    "                          loader_args=dict(ofs=32,order=6,stopband=((0,1),(12,-1)),subtriallen=None),\n",
    "                          preproc_args=dict(badChannelThresh=3,badTrialThresh=None),\n",
    "                          model='cca',evtlabs=('re','anyre'),rank=4,tau_ms=750,reg=.02,badEpThresh=3)"
   ]
  },
  {
   "cell_type": "code",
   "execution_count": null,
   "metadata": {
    "scrolled": true,
    "tags": []
   },
   "outputs": [],
   "source": [
    "debug_test_single_dataset('p300_prn','linsey_prn_5_flip',\n",
    "                          loader_args=dict(ofs=32,order=6,stopband=((0,1),(12,-1)),subtriallen=None),\n",
    "                          preproc_args=dict(badChannelThresh=3,badTrialThresh=None),\n",
    "                          model='cca',evtlabs=('re','anyre'),rank=4,tau_ms=750,reg=.02,badEpThresh=3)"
   ]
  },
  {
   "cell_type": "code",
   "execution_count": null,
   "metadata": {
    "scrolled": true,
    "tags": []
   },
   "outputs": [],
   "source": [
    "debug_test_single_dataset('p300_prn','nan_prn_5_flip',\n",
    "                          loader_args=dict(ofs=32,order=6,stopband=((0,1),(12,-1)),subtriallen=None),\n",
    "                          preproc_args=dict(badChannelThresh=3,badTrialThresh=None),\n",
    "                          model='cca',evtlabs=('re','anyre'),rank=4,tau_ms=750,reg=.02,badEpThresh=3)"
   ]
  },
  {
   "cell_type": "code",
   "execution_count": null,
   "metadata": {
    "scrolled": false,
    "tags": []
   },
   "outputs": [],
   "source": [
    "# run visualization for all datasets for this condition.  Prn_5_flip\n",
    "from datasets import get_dataset\n",
    "l,fns,_ = get_dataset('p300_prn','prn_5_flip')\n",
    "for fi in fns:\n",
    "    print(\"\\n\\n---------------------------------- {} \\n\\n\".format(fi))\n",
    "    X,Y,coords=l(fi,ofs=32,order=6,stopband=((0,1),(12,-1)),subtriallen=None)\n",
    "    debug_test_dataset(X,Y,coords,\n",
    "                          preproc_args=dict(badChannelThresh=3,badTrialThresh=None),\n",
    "                          model='cca',evtlabs=('re','anyre'),rank=4,tau_ms=750,reg=.02)"
   ]
  },
  {
   "cell_type": "code",
   "execution_count": null,
   "metadata": {
    "scrolled": false
   },
   "outputs": [],
   "source": []
  }
 ],
 "metadata": {
  "kernelspec": {
   "display_name": "Python 3",
   "language": "python",
   "name": "python3"
  },
  "language_info": {
   "codemirror_mode": {
    "name": "ipython",
    "version": 3
   },
   "file_extension": ".py",
   "mimetype": "text/x-python",
   "name": "python",
   "nbconvert_exporter": "python",
   "pygments_lexer": "ipython3",
   "version": "3.7.4"
  }
 },
 "nbformat": 4,
 "nbformat_minor": 2
}
