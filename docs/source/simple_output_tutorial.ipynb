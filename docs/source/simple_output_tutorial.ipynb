{
 "cells": [
  {
   "cell_type": "markdown",
   "metadata": {},
   "source": [
    "# Creating a Simple Output Module"
   ]
  },
  {
   "cell_type": "markdown",
   "metadata": {},
   "source": [
    "An output module listens for selections from the MindAffect decoder and acts on them to create some output. By the end of this tutorial you will be able to:\n",
    " * make a simple output module which prints \"Hello World\" when the presentation 'button' with ID=1 is selected.\n",
    " * know how to make your own output modules to perform arbitary actions under brain control\n",
    "\n",
    "**Before starting this tutorial please read the** [how an evoked bci works](https://mindaffect-bci.readthedocs.io/en/latest/how_an_evoked_bci_works.html) **tutorial to gain a general understanding of the components of this BCI.  And the [quickstart tutorial](quickstart.ipynb) or [DIY Brain Computer Interface](DIY_brain_computer_interfacing.ipynb) for how they are used in the mindaffectBCI. **  \n",
    "\n",
    "*The non-Jupyter Notebook version of this code and other output examples can be found in the* [examples/output](https://github.com/mindaffect/pymindaffectBCI/blob/doc/mindaffectBCI/examples/output/minimal_output.py) *directory*   "
   ]
  },
  {
   "cell_type": "markdown",
   "metadata": {},
   "source": [
    "First, we import the module responsible for translating selections to output, and create the utopia2output object:"
   ]
  },
  {
   "cell_type": "code",
   "execution_count": 1,
   "metadata": {},
   "outputs": [],
   "source": [
    "# Import the utopia2output module\n",
    "from mindaffectBCI.utopia2output import Utopia2Output\n",
    "\n",
    "u2o=Utopia2Output()"
   ]
  },
  {
   "cell_type": "markdown",
   "metadata": {},
   "source": [
    "## Defining the Output function\n",
    "Now we define a function to print hello-world. "
   ]
  },
  {
   "cell_type": "code",
   "execution_count": 2,
   "metadata": {},
   "outputs": [],
   "source": [
    "def helloworld(objID):\n",
    "   print(\"hello world\")\n"
   ]
  },
  {
   "cell_type": "markdown",
   "metadata": {},
   "source": [
    "## Connecting the Output function\n",
    "And connect it so it is run when the object with ID=1 is selected. You can create as many output functions as needed, and connect them to different object ID's by simply adding them to the dictionary as *key-value* pairs."
   ]
  },
  {
   "cell_type": "code",
   "execution_count": 3,
   "metadata": {},
   "outputs": [],
   "source": [
    "# set the objectID2Action dictionary to use our helloworld function if 1 is selected\n",
    "u2o.objectID2Action={ 1:helloworld }"
   ]
  },
  {
   "cell_type": "markdown",
   "metadata": {},
   "source": [
    "## Start the BCI decoder in the background.\n",
    "To successfully test your presentation module it is important to have the other components of the BCI running. As explained in the [quickstart tutorial](quickstart.ipynb), additionally to the presentation we build here, we need the Hub, Decoder, and Acquisition components for a functioning BCI.  \n",
    "For a quick test (with fake data) of this presentation module you can run all these components with a given configuration file using.\n",
    "\n",
    "N.B. if you run directly in this notebook, *don't forget to shutdown the decoder* at the end."
   ]
  },
  {
   "cell_type": "code",
   "execution_count": null,
   "metadata": {},
   "outputs": [],
   "source": [
    "import mindaffectBCI.online_bci\n",
    "config = mindaffectBCI.online_bci.load_config('fake_recogniser.json')\n",
    "mindaffectBCI.online_bci.run(**config)"
   ]
  },
  {
   "cell_type": "markdown",
   "metadata": {},
   "source": [
    "Alternatively you can run this config from the command line with:\n",
    "\n",
    "```python3 -m mindaffectBCI.online_bci --config_file fake_recogniser.json``` \n",
    "\n",
    "Or from you Anaconda environment:   \n",
    "\n",
    "```python -m mindaffectBCI.online_bci --config_file fake_recognizer.json```\n",
    "\n",
    "**See our tutorial** [Running Custom Presentation](simple_integration_tutorial.ipynb) **to set-up a BCI using your own Presentation module**"
   ]
  },
  {
   "cell_type": "markdown",
   "metadata": {},
   "source": [
    "## Connect and Run\n",
    "We now connect our output module to a running decoder and run the main loop. Selection of ID=1 will result in printing \"Hello World\" to this prompt."
   ]
  },
  {
   "cell_type": "code",
   "execution_count": null,
   "metadata": {},
   "outputs": [],
   "source": [
    "# connect\n",
    "u2o.connect()\n",
    "\n",
    "# run the main loop\n",
    "u2o.run()"
   ]
  }
 ],
 "metadata": {
  "kernelspec": {
   "display_name": "Python 3",
   "language": "python",
   "name": "python3"
  },
  "language_info": {
   "codemirror_mode": {
    "name": "ipython",
    "version": 3
   },
   "file_extension": ".py",
   "mimetype": "text/x-python",
   "name": "python",
   "nbconvert_exporter": "python",
   "pygments_lexer": "ipython3",
   "version": "3.7.4"
  }
 },
 "nbformat": 4,
 "nbformat_minor": 4
}
