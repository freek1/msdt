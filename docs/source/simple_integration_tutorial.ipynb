{
 "cells": [
  {
   "cell_type": "markdown",
   "metadata": {},
   "source": [
    "#  Running Custom Presentation\n",
    "\n",
    "This tutorial shows how to integerate a custom presentation module (such as the custom presentation module made in the [Simple Presentation Tutorial](simple_presentation_tutorial.ipynb)), with the rest of the BCI run with the `online_bci.py` module.  By the end of this tutorial you will know:\n",
    " * How to start the mindaffectBCI **without** automatically starting a presentation module\n",
    " * How to run your presentation module\n",
    " * How to cleanly shutdown the mindaffetBCI when you finish\n",
    "\n",
    "Before running this tutorial you should have read [how an evoked bci works](https://mindaffect-bci.readthedocs.io/en/latest/how_an_evoked_bci_works.html) and run through the [Simple Presentation Tutorial](simple_presentation_tutorial.ipynb) to understand how to build a custom presentation module. "
   ]
  },
  {
   "cell_type": "code",
   "execution_count": null,
   "metadata": {},
   "outputs": [],
   "source": [
    "# Import the mindaffectBCI decoder and other required modules. \n",
    "%load_ext autoreload\n",
    "%autoreload 2\n",
    "%gui qt\n",
    "import mindaffectBCI.online_bci"
   ]
  },
  {
   "cell_type": "markdown",
   "metadata": {},
   "source": [
    "## Start the EEG processing components\n",
    "That is start the; 1) Hub, 2) Acquisation, 3) Decoder - by starting the `online_bci` script with presentation disabled.  \n",
    "\n",
    "For more information on these components and why we need them please consult the [Quickstart Tutorial](quickstart.ipynb)"
   ]
  },
  {
   "cell_type": "code",
   "execution_count": null,
   "metadata": {},
   "outputs": [],
   "source": [
    "# load the config-file to use.  Here we use the default noisetag config file:\n",
    "config = mindaffectBCI.online_bci.load_config(\"noisetag_bci\")"
   ]
  },
  {
   "cell_type": "markdown",
   "metadata": {},
   "source": [
    "Set the Presentation system to `None` and then start the online_bci."
   ]
  },
  {
   "cell_type": "code",
   "execution_count": null,
   "metadata": {},
   "outputs": [],
   "source": [
    "config['presentation']=None\n",
    "#uncomment the following line to use to the fakedata acquisition\n",
    "config['acquisition']='fakedata'\n",
    "mindaffectBCI.online_bci.run(**config)"
   ]
  },
  {
   "cell_type": "markdown",
   "metadata": {},
   "source": [
    "Check all is running correctly."
   ]
  },
  {
   "cell_type": "code",
   "execution_count": null,
   "metadata": {},
   "outputs": [],
   "source": [
    "mindaffectBCI.online_bci.check_is_running()"
   ]
  },
  {
   "cell_type": "markdown",
   "metadata": {},
   "source": [
    "## Run the Custom Presentation\n",
    "\n",
    "We run our custom presentation module by first importing and then running it."
   ]
  },
  {
   "cell_type": "code",
   "execution_count": null,
   "metadata": {},
   "outputs": [],
   "source": [
    "# import and run the presentation\n",
    "from mindaffectBCI.examples.presentation import minimal_presentation"
   ]
  },
  {
   "cell_type": "markdown",
   "metadata": {},
   "source": [
    "## Shutdown the decoder"
   ]
  },
  {
   "cell_type": "code",
   "execution_count": null,
   "metadata": {},
   "outputs": [],
   "source": [
    "mindaffectBCI.online_bci.shutdown()"
   ]
  }
 ],
 "metadata": {
  "kernelspec": {
   "display_name": "Python 3",
   "language": "python",
   "name": "python3"
  },
  "language_info": {
   "codemirror_mode": {
    "name": "ipython",
    "version": 3
   },
   "file_extension": ".py",
   "mimetype": "text/x-python",
   "name": "python",
   "nbconvert_exporter": "python",
   "pygments_lexer": "ipython3",
   "version": "3.7.4"
  }
 },
 "nbformat": 4,
 "nbformat_minor": 4
}
